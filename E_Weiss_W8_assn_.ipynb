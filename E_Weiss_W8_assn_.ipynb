{
 "cells": [
  {
   "cell_type": "markdown",
   "metadata": {},
   "source": [
    "# Assignment 8 <br/>By Eli Weiss"
   ]
  },
  {
   "cell_type": "markdown",
   "metadata": {},
   "source": [
    "Set up:"
   ]
  },
  {
   "cell_type": "code",
   "execution_count": 157,
   "metadata": {},
   "outputs": [],
   "source": [
    "#Create a string to store the data we will be working on\n",
    "textq1=\"555-1239Moe Szyslak(636) 555-0113Burns, C. Montgomery555 -6542Rev. Timothy Lovejoy555 8904Ned Flanders636-555-3226Simpson, Homer5553642Dr. Julius Hibbert\""
   ]
  },
  {
   "cell_type": "code",
   "execution_count": 158,
   "metadata": {},
   "outputs": [],
   "source": [
    "# Import Regex\n",
    "import re"
   ]
  },
  {
   "cell_type": "markdown",
   "metadata": {},
   "source": [
    "**Question 1:** Extract the names of each individual from the unformatted text string and store them in a vector of some sort. When complete, your vector should contain the following entries:\n",
    "\n",
    "\n",
    "\"Moe Szyslak\" \"Burns, C. Montgomery\" \"Rev. Timothy Lovejoy\" \"Ned Flanders\" \"Simpson,Homer\" \"Dr. Julius Hibbert\""
   ]
  },
  {
   "cell_type": "code",
   "execution_count": 159,
   "metadata": {},
   "outputs": [
    {
     "data": {
      "text/plain": [
       "'Moe Szyslak Burns, C. Montgomery Rev. Timothy Lovejoy Ned Flanders Simpson, Homer Dr. Julius Hibbert'"
      ]
     },
     "execution_count": 159,
     "metadata": {},
     "output_type": "execute_result"
    }
   ],
   "source": [
    "#Solution inspired by:\n",
    "# https://www.machinelearningplus.com/python/python-regex-tutorial-examples/\n",
    "\n",
    "#Remove all the punctuation \n",
    "x=re.sub('[%s]' % re.escape(\"\"\"!\"#$%&'()*+-:;<=>?@[\\]^_`{|}~\"\"\"), '', textq1)\n",
    "#Remove all numbers\n",
    "x=re.sub('[0-9]', '', x)\n",
    "\n",
    "#Add spaces inbetween the words that are adjacent\n",
    "#(Solution insipred by https://tinyurl.com/y2jqc4ca)\n",
    "x = re.sub(r\"(\\w)([A-Z])\", r\"\\1 \\2\", x)\n",
    "\n",
    "\n",
    "#print results\n",
    "x"
   ]
  },
  {
   "cell_type": "markdown",
   "metadata": {},
   "source": [
    "**Question 2:**\n",
    "Using your new vector containing only the names of the six individuals, complete the following tasks:\n",
    "<br/> a. Use your regex skills to rearrange the vector so that all elements conform to the   standard “firstname lastname”, preserving any titles (e.g., “Rev.”, “Dr.”, etc) or middle/second names. \n",
    "<br/>b. Construct a logical vector indicating whether a character has a title (i.e., Rev. and Dr.). <br/>c. Construct a logical vector indicating whether a character has a middle/second name."
   ]
  },
  {
   "cell_type": "code",
   "execution_count": 198,
   "metadata": {},
   "outputs": [
    {
     "data": {
      "text/plain": [
       "'Moe Szyslak \\x02 \\x01. Montgomery Rev. Timothy Lovejoy Ned Flanders \\x02 \\x01 Dr. Julius Hibbert'"
      ]
     },
     "execution_count": 198,
     "metadata": {},
     "output_type": "execute_result"
    }
   ],
   "source": [
    "#Question A\n",
    "re.sub('([a-zA-Z]+[,])[\\s]([a-zA-Z]+)', '\\2 \\1' , x)\n",
    "#I couldn't get this to run but it is supposed to switch the two variables in parentheses\n",
    "# it is somehow substituiting them for x01 and x02 and preforming the operation \n",
    "# on those instead."
   ]
  },
  {
   "cell_type": "code",
   "execution_count": 193,
   "metadata": {},
   "outputs": [
    {
     "data": {
      "text/plain": [
       "['Rev. Timothy', 'Dr. Julius']"
      ]
     },
     "execution_count": 193,
     "metadata": {},
     "output_type": "execute_result"
    }
   ],
   "source": [
    "#Question B\n",
    "\n",
    "#Here I am finding any 2 lettered word followed by a '.' with a space and the word after it.\n",
    "re.findall('[a-zA-Z]{2,}[.][\\s][a-zA-Z]+',x)"
   ]
  },
  {
   "cell_type": "code",
   "execution_count": 194,
   "metadata": {},
   "outputs": [
    {
     "data": {
      "text/plain": [
       "['C. Montgomery']"
      ]
     },
     "execution_count": 194,
     "metadata": {},
     "output_type": "execute_result"
    }
   ],
   "source": [
    "#Question C\n",
    "\n",
    "#Here I am finding a 1 letter word followed by a '.' with a space and the word after it.\n",
    "#This should find an initial representing a second name.\n",
    "re.findall('[A-Z]{1}[.][\\s][a-zA-Z]+',x)"
   ]
  },
  {
   "cell_type": "code",
   "execution_count": null,
   "metadata": {},
   "outputs": [],
   "source": [
    "#Quesiton 3** \n",
    "#Consider the HTML string\n",
    "#\"<title>+++BREAKING NEWS+++<title>\". We would like to extract the first HTML tag (i.e., “<title>”).\n",
    "#To do so we write the regular expression “<.+>”. Explain why this fails and correct the expression."
   ]
  },
  {
   "cell_type": "code",
   "execution_count": 168,
   "metadata": {},
   "outputs": [
    {
     "data": {
      "text/plain": [
       "['<title>+++BREAKING NEWS+++<title>']"
      ]
     },
     "execution_count": 168,
     "metadata": {},
     "output_type": "execute_result"
    }
   ],
   "source": [
    "textq3='<title>+++BREAKING NEWS+++<title>'\n",
    "re.findall('<.+>', textq3)"
   ]
  },
  {
   "cell_type": "markdown",
   "metadata": {},
   "source": [
    "This fails because it is saying \"find a '<' and then any charecter and then return the whole segment\" Since there is only one segment this is what it returns."
   ]
  },
  {
   "cell_type": "markdown",
   "metadata": {},
   "source": [
    "**Question 4** Consider the string “(5-3)^2=5^2-2*5*3+3^2” conforms to the binomial theorem. We would like to extract the formula in the string. To do so we write the regular expression “[^0-9=+*()]+”. Explain why this fails and correct the expression.\n"
   ]
  },
  {
   "cell_type": "code",
   "execution_count": 170,
   "metadata": {},
   "outputs": [
    {
     "data": {
      "text/plain": [
       "['-', '^', '^', '-', '*', '^']"
      ]
     },
     "execution_count": 170,
     "metadata": {},
     "output_type": "execute_result"
    }
   ],
   "source": [
    "textq5= '(5-3)^2=5^2-25*3+3^2'\n",
    "re.findall('[^0-9=+()]+', textq5)"
   ]
  },
  {
   "cell_type": "markdown",
   "metadata": {},
   "source": [
    "This fails to return the formula because this says to ignore 0-9,=,+,() and to return everything else."
   ]
  },
  {
   "cell_type": "code",
   "execution_count": 199,
   "metadata": {},
   "outputs": [
    {
     "data": {
      "text/plain": [
       "['5^2-25*3+3^2']"
      ]
     },
     "execution_count": 199,
     "metadata": {},
     "output_type": "execute_result"
    }
   ],
   "source": [
    "#Fix the expression\n",
    "#find everything after the '='\n",
    "re.findall('[=](.*)', textq5)"
   ]
  }
 ],
 "metadata": {
  "kernelspec": {
   "display_name": "Python 3",
   "language": "python",
   "name": "python3"
  },
  "language_info": {
   "codemirror_mode": {
    "name": "ipython",
    "version": 3
   },
   "file_extension": ".py",
   "mimetype": "text/x-python",
   "name": "python",
   "nbconvert_exporter": "python",
   "pygments_lexer": "ipython3",
   "version": "3.7.1"
  }
 },
 "nbformat": 4,
 "nbformat_minor": 2
}
