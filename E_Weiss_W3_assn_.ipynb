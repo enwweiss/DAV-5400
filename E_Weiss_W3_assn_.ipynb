{
 "cells": [
  {
   "cell_type": "markdown",
   "metadata": {
    "scrolled": false
   },
   "source": [
    "# Background Info     "
   ]
  },
  {
   "cell_type": "markdown",
   "metadata": {},
   "source": [
    "Here we are importing the datset and breaking it into the variables that are needed to solve the questions for this assignment."
   ]
  },
  {
   "cell_type": "code",
   "execution_count": null,
   "metadata": {},
   "outputs": [],
   "source": [
    "import csv\n",
    "with open('C:/Users/enwwe/Documents/GitHub/DAV-5400/cars-sample35.txt') as csvfile:\n",
    "    readCSV = csv.reader(csvfile)"
   ]
  },
  {
   "cell_type": "code",
   "execution_count": 3,
   "metadata": {},
   "outputs": [],
   "source": [
    "# Define all the variables used in the loop as empty \n",
    "# lists\n",
    "Price= []\n",
    "Maintenace = []\n",
    "Doors = []\n",
    "passenger = []\n",
    "Lugg = []\n",
    "Safe = []\n",
    "Class = []\n",
    "\n",
    "#import the data set\n",
    "import csv\n",
    "with open('C:/Users/enwwe/Documents/GitHub/DAV-5400/cars-sample35.txt') as csvfile:\n",
    "    readCSV = csv.reader(csvfile)\n",
    "\n",
    "#Run a For loop to create variables that make \"columns\" out of the data \n",
    "    for row in readCSV:\n",
    "            Price = Price +[row[0]]\n",
    "            Maintenace = Maintenace +[row[1]]\n",
    "            Doors = Doors + [row[2]]\n",
    "            passenger = passenger + [row[3]]\n",
    "            Lugg = Lugg + [row[4]]\n",
    "            Safe = Safe + [row[5]]\n",
    "            Class = Class + [row[6]]"
   ]
  },
  {
   "cell_type": "markdown",
   "metadata": {},
   "source": [
    "# Task 1"
   ]
  },
  {
   "cell_type": "markdown",
   "metadata": {},
   "source": [
    "Create a comprehension that finds all the 'med' values for price "
   ]
  },
  {
   "cell_type": "code",
   "execution_count": 12,
   "metadata": {},
   "outputs": [
    {
     "name": "stdout",
     "output_type": "stream",
     "text": [
      "[6, 16, 20, 23, 26, 29]\n"
     ]
    }
   ],
   "source": [
    "#Define the variable index where we will store the index values that are equal to 'med' and\n",
    "#ID the values in the Variable Price which are equal to med and store them in the variable \"Which_Price_Med\"\n",
    "\n",
    "Which_Price_Med = [ i for i in range(len(Price)) if Price[i]== 'med']\n",
    "\n",
    "print(Which_Price_Med)"
   ]
  },
  {
   "cell_type": "markdown",
   "metadata": {},
   "source": [
    "# Task 2"
   ]
  },
  {
   "cell_type": "markdown",
   "metadata": {},
   "source": [
    "Find the number of passengers of each car which the price is catagorized as 'med'"
   ]
  },
  {
   "cell_type": "code",
   "execution_count": 15,
   "metadata": {},
   "outputs": [
    {
     "name": "stdout",
     "output_type": "stream",
     "text": [
      "['more', '2', '2', '2', '4', '2']\n"
     ]
    }
   ],
   "source": [
    "# We will store this in a variable called Med_Pass\n",
    "# We are storing the value \"passenger[i]\" in this new\n",
    "# list for each value \"i\" in the list \"Which_Price_Med\"\n",
    "Med_Pass = [ passenger[i] for i in Which_Price_Med]\n",
    "print(Med_Pass)\n",
    "      \n"
   ]
  },
  {
   "cell_type": "markdown",
   "metadata": {},
   "source": [
    "# Task 3 "
   ]
  },
  {
   "cell_type": "markdown",
   "metadata": {},
   "source": [
    "find the index value for each automobile having a price value of \"high\" and a maintenance value that\n",
    "is not \"low\" using a list comprehension."
   ]
  },
  {
   "cell_type": "code",
   "execution_count": 16,
   "metadata": {},
   "outputs": [
    {
     "name": "stdout",
     "output_type": "stream",
     "text": [
      "[0, 1, 2, 27, 31]\n"
     ]
    }
   ],
   "source": [
    "#Here we are identifying which cars in our dataset have a 'high' price and are not 'low' maintenence.\n",
    "#Then we are storing them in a list called Which_P_High_M_Low \n",
    "Which_P_High_M_Low = [i for i in range(len(Price)) if Price[i]=='high' and Maintenace[i] != 'low']\n",
    "print(Which_P_High_M_Low)"
   ]
  },
  {
   "cell_type": "markdown",
   "metadata": {},
   "source": [
    "# Task 4"
   ]
  },
  {
   "cell_type": "markdown",
   "metadata": {},
   "source": [
    "Create a nested List comprehension"
   ]
  },
  {
   "cell_type": "code",
   "execution_count": 9,
   "metadata": {},
   "outputs": [
    {
     "name": "stdout",
     "output_type": "stream",
     "text": [
      "[1, 2, 3, 'A', 'B', 'C', 4, 5, 'D', 'E']\n"
     ]
    }
   ],
   "source": [
    "#provided list of lists\n",
    "nlist = [ [1, 2, 3], ['A', 'B', 'C'], [4, 5], ['D', 'E'] ]\n",
    "\n",
    "#comprehension which records the value of the items in internal lists of the larger list\n",
    "flist = [ y for x in nlist for y in x]\n",
    "print(flist)"
   ]
  },
  {
   "cell_type": "markdown",
   "metadata": {},
   "source": [
    "# Task 5"
   ]
  },
  {
   "cell_type": "markdown",
   "metadata": {},
   "source": [
    "Create a user defined function for the lists we have built off the original data set. \n",
    "The function should take a specified list and a specified amount of items.\n",
    "it should then turn them into  a dictionary.\n",
    "The Key for the dictionary should be A0 for the fist value in the dict, A1 for the second etc."
   ]
  },
  {
   "cell_type": "code",
   "execution_count": 11,
   "metadata": {},
   "outputs": [],
   "source": [
    "#Here we are building the \"Key\" for the Dict in the Function, all of the lists are 35 in length\n",
    "A_index = []\n",
    "for i in range(35):\n",
    "    A_index.append('A'+ str(i))\n",
    "\n",
    "\n",
    "#Start the construction of the Function\n",
    "def makedict(mylist, x):\n",
    "    \n",
    "#Error prevention:\n",
    "\n",
    "#Error 1: if the X value is too large\n",
    "    while True:\n",
    "        if(x > len(mylist)):\n",
    "            return(\"Error: X is larger than the length of the list. Try Again.\")\n",
    "            \n",
    "        else:\n",
    "            break\n",
    "            \n",
    "#Error 2: if the X value is the wrong class\n",
    "    while True:\n",
    "        if(x != int(x)):\n",
    "            return(\"Error: X must be a whole integer\")\n",
    "            \n",
    "        else:\n",
    "            break\n",
    "            \n",
    "#Error 3: Testing to make sure that the list input is one of the 7 lists this function was built for\n",
    "    while True:\n",
    "        if(mylist == Class or mylist == Doors or mylist == Lugg or mylist == Maintenace or mylist == Price or mylist == Safe or mylist == passenger):\n",
    "            break\n",
    "        else:\n",
    "            return(\"Error: must be equal to a name of a list from the 7\")\n",
    "            \n",
    "## Now that we have checked the inputs, let's go to the actual function\n",
    "##\n",
    "## Here we use the X to make 2 lists that are slices of the original lists\n",
    "    key_list = A_index[0:x]\n",
    "    value_list = mylist[0:x]\n",
    "    \n",
    "# Define the empty Dict we are building\n",
    "    newdict = {}\n",
    "    \n",
    "#Put the A_index slice together with the mylist slice using a zip function\n",
    "# (This solution came from the textbook)\n",
    "    for key, value in zip(key_list, value_list):\n",
    "        newdict[key] = value\n",
    "    return(newdict)"
   ]
  },
  {
   "cell_type": "markdown",
   "metadata": {},
   "source": [
    "# Task 6"
   ]
  },
  {
   "cell_type": "markdown",
   "metadata": {},
   "source": [
    "using the new user defined function to find the 'A4' value for Price and Luggage of a car"
   ]
  },
  {
   "cell_type": "code",
   "execution_count": 12,
   "metadata": {},
   "outputs": [
    {
     "name": "stdout",
     "output_type": "stream",
     "text": [
      "vhigh\n",
      "med\n"
     ]
    }
   ],
   "source": [
    "dict1 = makedict(Price,7)\n",
    "dict2 = makedict(Lugg, 7)\n",
    "\n",
    "print(dict1['A4'])\n",
    "print(dict2['A4'])"
   ]
  },
  {
   "cell_type": "code",
   "execution_count": null,
   "metadata": {},
   "outputs": [],
   "source": []
  }
 ],
 "metadata": {
  "kernelspec": {
   "display_name": "Python 3",
   "language": "python",
   "name": "python3"
  },
  "language_info": {
   "codemirror_mode": {
    "name": "ipython",
    "version": 3
   },
   "file_extension": ".py",
   "mimetype": "text/x-python",
   "name": "python",
   "nbconvert_exporter": "python",
   "pygments_lexer": "ipython3",
   "version": "3.7.1"
  }
 },
 "nbformat": 4,
 "nbformat_minor": 2
}
