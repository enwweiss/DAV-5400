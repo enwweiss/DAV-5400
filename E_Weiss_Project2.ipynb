{
 "cells": [
  {
   "cell_type": "markdown",
   "metadata": {},
   "source": [
    "# Project 2 Finding the Best Town in Boston To Move To "
   ]
  },
  {
   "cell_type": "markdown",
   "metadata": {},
   "source": [
    "### Part 1\n",
    "\n",
    "The Boston data set is a data set that hold information about housing in Boston. \n",
    "This information is critical to a homebuyer in the area. It will inform the person about important information such as median house pricing and crime rates in the area. \n",
    "\n",
    "Research question:\n",
    "We will seek to understand each of the factors in buying a house here and using them to find the best towns to live in - in Boston. We will then seek the cheapest town among those that fit the criteria of the \"best towns\" which will be determined through the research process.  \n",
    "\n",
    "### Part 2\n",
    "\n",
    "The Boston Data set comes from the MASS package in R. \n",
    "It has 506 rows or use cases.\n",
    "It has 13 attributes for each use case.\n",
    "\n",
    "**According to the documentation of this file the data comes from:** Harrison, D. and Rubinfeld, D.L. (1978) Hedonic prices and the demand for clean air. J. Environ. Economics and Management 5, 81–102 and Belsley D.A., Kuh, E. and Welsch, R.E. (1980) Regression Diagnostics. Identifying Influential Data and Sources of Collinearity. New York: Wiley. \n",
    "\n",
    "The attributes are:\n",
    "\n",
    "- **crim:**\n",
    "  per capita crime rate by town. This is a continuous variable.\n",
    "\n",
    "- **zn:**\n",
    "  proportion of residential land zoned for lots over 25,000 sq.ft. This is a continuous variable.\n",
    "\n",
    "- **indus:**\n",
    "  proportion of non-retail business acres per town. This is a continuous variable.\n",
    "\n",
    "- **chas:**\n",
    "  Charles River dummy variable (= 1 if tract bounds river; 0 otherwise). This is a binomial categorical variable.\n",
    "\n",
    "- **nox:** \n",
    "  nitrogen oxides concentration (parts per 10 million). This is a continuous variable.\n",
    "\n",
    "- **rm:**\n",
    "  average number of rooms per dwelling. This is a continuous variable.\n",
    "\n",
    "- **age:**\n",
    "  proportion of owner-occupied units built prior to 1940. This is a continuous variable.\n",
    "\n",
    "- **dis:**\n",
    "  weighted mean of distances to five Boston employment centres. This is a continuous variable.\n",
    "\n",
    "- **rad:**\n",
    "  index of accessibility to radial highways. This is a continuous variable.\n",
    "\n",
    "- **tax:**\n",
    "  full-value property-tax rate per 10,000 dollars. This is a categorical ordinal variable.\n",
    "  \n",
    "- **ptratio:**\n",
    "  pupil-teacher ratio by town. This is a continuous variable.\n",
    "\n",
    "- **lstat:**\n",
    "  lower status of the population (percent). This is a continuous variable.\n",
    "\n",
    "- **medv:**\n",
    "  median value of owner-occupied homes in 1000 Dollar amounts. This is a continuous variable.\n"
   ]
  },
  {
   "cell_type": "markdown",
   "metadata": {},
   "source": [
    "### Part 3"
   ]
  },
  {
   "cell_type": "markdown",
   "metadata": {},
   "source": [
    "First we will import all of the packages and data we need for this project:"
   ]
  },
  {
   "cell_type": "markdown",
   "metadata": {},
   "source": [
    "%matplotlib notebook"
   ]
  },
  {
   "cell_type": "code",
   "execution_count": 1,
   "metadata": {},
   "outputs": [],
   "source": [
    "#Load all libraries we will need for this project\n",
    "import numpy as np\n",
    "import matplotlib.pyplot as plt\n",
    "import seaborn as sns\n",
    "import pandas as pd"
   ]
  },
  {
   "cell_type": "code",
   "execution_count": 3,
   "metadata": {},
   "outputs": [],
   "source": [
    "#import the dataset for this project\n",
    "Boston = pd.read_csv('https://raw.githubusercontent.com/enwweiss/DAV-5400/master/Boston.csv')"
   ]
  },
  {
   "cell_type": "markdown",
   "metadata": {},
   "source": [
    "Now we will generate summary statistics and graphs for each of the attributes in the data.3"
   ]
  },
  {
   "cell_type": "markdown",
   "metadata": {},
   "source": [
    "Let's start with the **crim** attribute which represents the per capita crime rate by town."
   ]
  },
  {
   "cell_type": "code",
   "execution_count": 117,
   "metadata": {},
   "outputs": [
    {
     "data": {
      "text/plain": [
       "count    506.000000\n",
       "mean       3.613524\n",
       "std        8.601545\n",
       "min        0.006320\n",
       "25%        0.082045\n",
       "50%        0.256510\n",
       "75%        3.677082\n",
       "max       88.976200\n",
       "Name: crim, dtype: float64"
      ]
     },
     "execution_count": 117,
     "metadata": {},
     "output_type": "execute_result"
    }
   ],
   "source": [
    "#Quickly Generate Summary Statistics\n",
    "Boston.crim.describe()"
   ]
  },
  {
   "cell_type": "markdown",
   "metadata": {},
   "source": [
    "We see the average amount of crime per capita in every town is 3.6<br/>\n",
    "We also see the standard deviation is really large.<br/>\n",
    "Let's look at a boxplot to understand the distribution better.<br/>\n",
    "(For the purposes of this project all charts will be made twice. Once in seaborn and once in matplot)"
   ]
  },
  {
   "cell_type": "code",
   "execution_count": 48,
   "metadata": {},
   "outputs": [
    {
     "data": {
      "image/png": "[encoded data removed]",
      "text/plain": [
       "<Figure size 432x288 with 2 Axes>"
      ]
     },
     "metadata": {
      "needs_background": "light"
     },
     "output_type": "display_data"
    }
   ],
   "source": [
    "#Create a side by side boxplots one in seaborn, one in matplot\n",
    "plt.figure(1)\n",
    "plt.subplot(121)\n",
    "sns.boxplot(Boston.crim, orient = 'v')\n",
    "plt.title('Seaborn Boxplot')\n",
    "plt.xlabel(' ')\n",
    "plt.subplot(122)\n",
    "plt.boxplot(Boston.crim)\n",
    "plt.title('Matplot Boxplot')\n",
    "plt.show()\n"
   ]
  },
  {
   "cell_type": "markdown",
   "metadata": {},
   "source": [
    "We can see there are lot of outliers, though most towns have a low per capita crime rate.<br/>\n",
    "It's making the plot difficult to read so let's recreate the plot excluding the outliers."
   ]
  },
  {
   "cell_type": "code",
   "execution_count": 17,
   "metadata": {},
   "outputs": [
    {
     "data": {
      "image/png": "[encoded data removed]",
      "text/plain": [
       "<Figure size 432x288 with 2 Axes>"
      ]
     },
     "metadata": {
      "needs_background": "light"
     },
     "output_type": "display_data"
    }
   ],
   "source": [
    "#Create a side by side boxplots one in seaborn, one in matplot\n",
    "plt.figure(1)\n",
    "plt.subplot(121)\n",
    "sns.boxplot(Boston.crim[Boston.crim<3.677], orient = 'v')\n",
    "plt.title('Seaborn Boxplot')\n",
    "plt.xlabel(' ')\n",
    "plt.subplot(122)\n",
    "plt.boxplot(Boston.crim[Boston.crim<3.677])\n",
    "plt.title('Matplot Boxplot')\n",
    "plt.show()\n"
   ]
  },
  {
   "cell_type": "markdown",
   "metadata": {},
   "source": [
    "This is interesting, when we cut out the outliers we see that data that was originally in the 75 percentile is now treated as an outlier. We see that the new mean is actually much lower than we thought."
   ]
  },
  {
   "cell_type": "code",
   "execution_count": 20,
   "metadata": {},
   "outputs": [
    {
     "data": {
      "text/plain": [
       "0.111005"
      ]
     },
     "execution_count": 20,
     "metadata": {},
     "output_type": "execute_result"
    }
   ],
   "source": [
    "Boston.crim[Boston.crim<1].median()"
   ]
  },
  {
   "cell_type": "markdown",
   "metadata": {},
   "source": [
    "If we exclude the new outliers crimes per capita goes down to 0.11 which is much safer. It seems that Boston is much safer than we originally thought.<br/>\n",
    "If you stay out of certain towns the area can be very safe."
   ]
  },
  {
   "cell_type": "markdown",
   "metadata": {},
   "source": [
    "Let's take a look at the next attribute: **zn** which is a proportion of residential land zoned for lots over 25,000 sq.ft."
   ]
  },
  {
   "cell_type": "code",
   "execution_count": 9,
   "metadata": {},
   "outputs": [
    {
     "data": {
      "text/plain": [
       "count    506.000000\n",
       "mean      11.363636\n",
       "std       23.322453\n",
       "min        0.000000\n",
       "25%        0.000000\n",
       "50%        0.000000\n",
       "75%       12.500000\n",
       "max      100.000000\n",
       "Name: zn, dtype: float64"
      ]
     },
     "execution_count": 9,
     "metadata": {},
     "output_type": "execute_result"
    }
   ],
   "source": [
    "#Quickly Generate Summary Statistics\n",
    "Boston.zn.describe()"
   ]
  },
  {
   "cell_type": "markdown",
   "metadata": {},
   "source": [
    "We can see right away there are a lot of zeros in this attribute. Because of this the mean/average will not be very meaningful. A boxplot with zeros excluded will help us understand the distribution of this attribute better."
   ]
  },
  {
   "cell_type": "code",
   "execution_count": 26,
   "metadata": {},
   "outputs": [
    {
     "data": {
      "image/png": "[encoded data removed]",
      "text/plain": [
       "<Figure size 432x288 with 2 Axes>"
      ]
     },
     "metadata": {
      "needs_background": "light"
     },
     "output_type": "display_data"
    },
    {
     "name": "stdout",
     "output_type": "stream",
     "text": [
      "Median:\n"
     ]
    },
    {
     "data": {
      "text/plain": [
       "33.0"
      ]
     },
     "execution_count": 26,
     "metadata": {},
     "output_type": "execute_result"
    }
   ],
   "source": [
    "#Create a side by side boxplots one in seaborn, one in matplot\n",
    "plt.figure(1)\n",
    "plt.subplot(121)\n",
    "sns.boxplot(Boston.zn[Boston.zn>0], orient = 'v')\n",
    "plt.title('Seaborn Boxplot')\n",
    "plt.xlabel(' ')\n",
    "plt.subplot(122)\n",
    "plt.boxplot(Boston.zn[Boston.zn>0])\n",
    "plt.title('Matplot Boxplot')\n",
    "plt.show()\n",
    "print(\"Median:\")\n",
    "Boston.zn[Boston.zn>0].median()"
   ]
  },
  {
   "cell_type": "markdown",
   "metadata": {},
   "source": [
    "We see that in the towns where there are large plots of residential land the median is 33 and that it varies from about 21 - 70"
   ]
  },
  {
   "cell_type": "markdown",
   "metadata": {},
   "source": [
    "Let's take a look at the next attribute: **indus** which is a proportion of non-retail business acres per town."
   ]
  },
  {
   "cell_type": "code",
   "execution_count": 27,
   "metadata": {},
   "outputs": [
    {
     "data": {
      "text/plain": [
       "count    506.000000\n",
       "mean      11.136779\n",
       "std        6.860353\n",
       "min        0.460000\n",
       "25%        5.190000\n",
       "50%        9.690000\n",
       "75%       18.100000\n",
       "max       27.740000\n",
       "Name: indus, dtype: float64"
      ]
     },
     "execution_count": 27,
     "metadata": {},
     "output_type": "execute_result"
    }
   ],
   "source": [
    "#Quickly Generate Summary Statistics\n",
    "Boston.indus.describe()"
   ]
  },
  {
   "cell_type": "markdown",
   "metadata": {},
   "source": [
    "We see the average proportion of industry in every town is 11.1<br/>\n",
    "We also see the standard deviation is 6.8.<br/>\n",
    "Let's look at a boxplot to understand the distribution better.<br/>"
   ]
  },
  {
   "cell_type": "code",
   "execution_count": 28,
   "metadata": {},
   "outputs": [
    {
     "data": {
      "image/png": "[encoded data removed]",
      "text/plain": [
       "<Figure size 432x288 with 2 Axes>"
      ]
     },
     "metadata": {
      "needs_background": "light"
     },
     "output_type": "display_data"
    }
   ],
   "source": [
    "#Create a side by side boxplots one in seaborn, one in matplot\n",
    "plt.figure(1)\n",
    "plt.subplot(121)\n",
    "sns.boxplot(Boston.indus, orient = 'v')\n",
    "plt.title('Seaborn Boxplot')\n",
    "plt.xlabel(' ')\n",
    "plt.subplot(122)\n",
    "plt.boxplot(Boston.indus)\n",
    "plt.title('Matplot Boxplot')\n",
    "plt.show()\n"
   ]
  },
  {
   "cell_type": "markdown",
   "metadata": {},
   "source": [
    "We see that the median is about 10 and that most of the time it's between about 5 and 18"
   ]
  },
  {
   "cell_type": "markdown",
   "metadata": {},
   "source": [
    "Let's take a look at the next attribute: **chas** which is a Charles River dummy variable which tells us 1 if it is on the water front or 0 if it is not. \n",
    "Since this is a categorical variable we will only be interested in histogram."
   ]
  },
  {
   "cell_type": "code",
   "execution_count": 118,
   "metadata": {},
   "outputs": [
    {
     "data": {
      "text/plain": [
       "count    506.000000\n",
       "mean       0.069170\n",
       "std        0.253994\n",
       "min        0.000000\n",
       "25%        0.000000\n",
       "50%        0.000000\n",
       "75%        0.000000\n",
       "max        1.000000\n",
       "Name: chas, dtype: float64"
      ]
     },
     "execution_count": 118,
     "metadata": {},
     "output_type": "execute_result"
    }
   ],
   "source": [
    "Boston.chas.describe()"
   ]
  },
  {
   "cell_type": "code",
   "execution_count": 35,
   "metadata": {},
   "outputs": [
    {
     "data": {
      "image/png": "[encoded data removed]",
      "text/plain": [
       "<Figure size 432x288 with 2 Axes>"
      ]
     },
     "metadata": {
      "needs_background": "light"
     },
     "output_type": "display_data"
    }
   ],
   "source": [
    "#Create a side by side boxplots one in seaborn, one in matplot\n",
    "plt.figure(1)\n",
    "plt.subplot(121)\n",
    "sns.distplot(Boston.chas, bins = 10)\n",
    "plt.title('Seaborn Histogram')\n",
    "plt.xlabel(' ')\n",
    "plt.subplot(122)\n",
    "plt.hist(Boston.chas)\n",
    "plt.title('Matplot Histogram')\n",
    "plt.show()"
   ]
  },
  {
   "cell_type": "markdown",
   "metadata": {},
   "source": [
    "We see there are very few towns that have a waterfront. Less than 50. Let's find out exactly how many."
   ]
  },
  {
   "cell_type": "code",
   "execution_count": 33,
   "metadata": {},
   "outputs": [
    {
     "data": {
      "text/plain": [
       "35"
      ]
     },
     "execution_count": 33,
     "metadata": {},
     "output_type": "execute_result"
    }
   ],
   "source": [
    "sum(Boston.chas)"
   ]
  },
  {
   "cell_type": "markdown",
   "metadata": {},
   "source": [
    "There are only 35 towns that have a waterfront. "
   ]
  },
  {
   "cell_type": "markdown",
   "metadata": {},
   "source": [
    "Let's look at the next variable, **nox:** nitrogen oxides concentration (parts per 10 million)."
   ]
  },
  {
   "cell_type": "code",
   "execution_count": 119,
   "metadata": {},
   "outputs": [
    {
     "data": {
      "text/plain": [
       "count    506.000000\n",
       "mean       0.554695\n",
       "std        0.115878\n",
       "min        0.385000\n",
       "25%        0.449000\n",
       "50%        0.538000\n",
       "75%        0.624000\n",
       "max        0.871000\n",
       "Name: nox, dtype: float64"
      ]
     },
     "execution_count": 119,
     "metadata": {},
     "output_type": "execute_result"
    }
   ],
   "source": [
    "Boston.nox.describe()"
   ]
  },
  {
   "cell_type": "code",
   "execution_count": 36,
   "metadata": {},
   "outputs": [
    {
     "data": {
      "image/png": "[encoded data removed]",
      "text/plain": [
       "<Figure size 432x288 with 2 Axes>"
      ]
     },
     "metadata": {
      "needs_background": "light"
     },
     "output_type": "display_data"
    }
   ],
   "source": [
    "#Create a side by side boxplots one in seaborn, one in matplot\n",
    "plt.figure(1)\n",
    "plt.subplot(121)\n",
    "sns.boxplot(Boston.nox, orient = 'v')\n",
    "plt.title('Seaborn Boxplot')\n",
    "plt.xlabel(' ')\n",
    "plt.subplot(122)\n",
    "plt.boxplot(Boston.nox)\n",
    "plt.title('Matplot Boxplot')\n",
    "plt.show()"
   ]
  },
  {
   "cell_type": "markdown",
   "metadata": {},
   "source": [
    "According to the EPA NOX levels should be .53 to be safe. (https://www3.epa.gov/ttncatc1/dir1/fnoxdoc.pdf)"
   ]
  },
  {
   "cell_type": "markdown",
   "metadata": {},
   "source": [
    "We see that the median value is slightly above safe. As a consumer we are going to be interested in finding a town with lower NOX levels."
   ]
  },
  {
   "cell_type": "markdown",
   "metadata": {},
   "source": [
    "The next variable is **rm:** average number of rooms per dwelling.\n",
    "This will help us understand the market of each town, if the average is higher than it will be easier to resell a house with a higher amount of rooms and vice versa."
   ]
  },
  {
   "cell_type": "code",
   "execution_count": 120,
   "metadata": {},
   "outputs": [
    {
     "data": {
      "text/plain": [
       "count    506.000000\n",
       "mean       6.284634\n",
       "std        0.702617\n",
       "min        3.561000\n",
       "25%        5.885500\n",
       "50%        6.208500\n",
       "75%        6.623500\n",
       "max        8.780000\n",
       "Name: rm, dtype: float64"
      ]
     },
     "execution_count": 120,
     "metadata": {},
     "output_type": "execute_result"
    }
   ],
   "source": [
    "Boston.rm.describe()"
   ]
  },
  {
   "cell_type": "code",
   "execution_count": 37,
   "metadata": {},
   "outputs": [
    {
     "data": {
      "image/png": "[encoded data removed]",
      "text/plain": [
       "<Figure size 432x288 with 2 Axes>"
      ]
     },
     "metadata": {
      "needs_background": "light"
     },
     "output_type": "display_data"
    }
   ],
   "source": [
    "#Create a side by side boxplots one in seaborn, one in matplot\n",
    "plt.figure(1)\n",
    "plt.subplot(121)\n",
    "sns.boxplot(Boston.rm, orient = 'v')\n",
    "plt.title('Seaborn Boxplot')\n",
    "plt.xlabel(' ')\n",
    "plt.subplot(122)\n",
    "plt.boxplot(Boston.rm)\n",
    "plt.title('Matplot Boxplot')\n",
    "plt.show()"
   ]
  },
  {
   "cell_type": "markdown",
   "metadata": {},
   "source": [
    "The Median number of rooms in a house is about 6.5 Houses tend to have between 6 and 7 bedrooms in Boston."
   ]
  },
  {
   "cell_type": "markdown",
   "metadata": {},
   "source": [
    "Let's look at the next variable **age** which is a proportion of owner-occupied units built prior to 1940."
   ]
  },
  {
   "cell_type": "code",
   "execution_count": 121,
   "metadata": {},
   "outputs": [
    {
     "data": {
      "text/plain": [
       "count    506.000000\n",
       "mean      68.574901\n",
       "std       28.148861\n",
       "min        2.900000\n",
       "25%       45.025000\n",
       "50%       77.500000\n",
       "75%       94.075000\n",
       "max      100.000000\n",
       "Name: age, dtype: float64"
      ]
     },
     "execution_count": 121,
     "metadata": {},
     "output_type": "execute_result"
    }
   ],
   "source": [
    "Boston.age.describe()"
   ]
  },
  {
   "cell_type": "code",
   "execution_count": 39,
   "metadata": {},
   "outputs": [
    {
     "data": {
      "image/png": "[encoded data removed]",
      "text/plain": [
       "<Figure size 432x288 with 2 Axes>"
      ]
     },
     "metadata": {
      "needs_background": "light"
     },
     "output_type": "display_data"
    },
    {
     "data": {
      "text/plain": [
       "77.5"
      ]
     },
     "execution_count": 39,
     "metadata": {},
     "output_type": "execute_result"
    }
   ],
   "source": [
    "#Create a side by side boxplots one in seaborn, one in matplot\n",
    "plt.figure(1)\n",
    "plt.subplot(121)\n",
    "sns.boxplot(Boston.age, orient = 'v')\n",
    "plt.title('Seaborn Boxplot')\n",
    "plt.xlabel(' ')\n",
    "plt.subplot(122)\n",
    "plt.boxplot(Boston.age)\n",
    "plt.title('Matplot Boxplot')\n",
    "plt.show()\n",
    "Boston.age.median()"
   ]
  },
  {
   "cell_type": "markdown",
   "metadata": {},
   "source": [
    "We see that houses in Boston tend to be older. The Median proportion is 77.5."
   ]
  },
  {
   "cell_type": "markdown",
   "metadata": {},
   "source": [
    "Let's look at the next variable **dis** weighted mean of distances to five Boston employment centers."
   ]
  },
  {
   "cell_type": "code",
   "execution_count": 122,
   "metadata": {},
   "outputs": [
    {
     "data": {
      "text/plain": [
       "count    506.000000\n",
       "mean       3.795043\n",
       "std        2.105710\n",
       "min        1.129600\n",
       "25%        2.100175\n",
       "50%        3.207450\n",
       "75%        5.188425\n",
       "max       12.126500\n",
       "Name: dis, dtype: float64"
      ]
     },
     "execution_count": 122,
     "metadata": {},
     "output_type": "execute_result"
    }
   ],
   "source": [
    "Boston.dis.describe()"
   ]
  },
  {
   "cell_type": "code",
   "execution_count": 42,
   "metadata": {},
   "outputs": [
    {
     "data": {
      "image/png": "[encoded data removed]",
      "text/plain": [
       "<Figure size 432x288 with 2 Axes>"
      ]
     },
     "metadata": {
      "needs_background": "light"
     },
     "output_type": "display_data"
    },
    {
     "data": {
      "text/plain": [
       "3.2074499999999997"
      ]
     },
     "execution_count": 42,
     "metadata": {},
     "output_type": "execute_result"
    }
   ],
   "source": [
    "plt.figure(1)\n",
    "plt.subplot(121)\n",
    "sns.boxplot(Boston.dis, orient = 'v')\n",
    "plt.title('Seaborn Boxplot')\n",
    "plt.xlabel(' ')\n",
    "plt.subplot(122)\n",
    "plt.boxplot(Boston.dis)\n",
    "plt.title('Matplot Boxplot')\n",
    "plt.show()\n",
    "Boston.dis.median()"
   ]
  },
  {
   "cell_type": "code",
   "execution_count": 71,
   "metadata": {},
   "outputs": [
    {
     "data": {
      "image/png": "[encoded data removed]",
      "text/plain": [
       "<Figure size 432x288 with 2 Axes>"
      ]
     },
     "metadata": {
      "needs_background": "light"
     },
     "output_type": "display_data"
    }
   ],
   "source": [
    "plt.figure(1)\n",
    "plt.subplot(121)\n",
    "sns.distplot(Boston.dis,bins = 10)\n",
    "plt.title('Seaborn Histogram')\n",
    "plt.xlabel(' ')\n",
    "plt.subplot(122)\n",
    "plt.hist(Boston.dis)\n",
    "plt.title('Matplot Histogram')\n",
    "plt.show()"
   ]
  },
  {
   "cell_type": "markdown",
   "metadata": {},
   "source": [
    "We that almost all towns are on average within a few miles of a center of employment."
   ]
  },
  {
   "cell_type": "markdown",
   "metadata": {},
   "source": [
    "Let's look at the next variable **rad:** index of accessibility to radial highways."
   ]
  },
  {
   "cell_type": "code",
   "execution_count": 123,
   "metadata": {},
   "outputs": [
    {
     "data": {
      "text/plain": [
       "count    506.000000\n",
       "mean       9.549407\n",
       "std        8.707259\n",
       "min        1.000000\n",
       "25%        4.000000\n",
       "50%        5.000000\n",
       "75%       24.000000\n",
       "max       24.000000\n",
       "Name: rad, dtype: float64"
      ]
     },
     "execution_count": 123,
     "metadata": {},
     "output_type": "execute_result"
    }
   ],
   "source": [
    "Boston.rad.describe()"
   ]
  },
  {
   "cell_type": "code",
   "execution_count": 47,
   "metadata": {},
   "outputs": [
    {
     "data": {
      "image/png": "[encoded data removed]",
      "text/plain": [
       "<Figure size 432x288 with 2 Axes>"
      ]
     },
     "metadata": {
      "needs_background": "light"
     },
     "output_type": "display_data"
    }
   ],
   "source": [
    "plt.figure(1)\n",
    "plt.subplot(121)\n",
    "sns.distplot(Boston.rad,bins = 10)\n",
    "plt.title('Seaborn Histogram')\n",
    "plt.xlabel(' ')\n",
    "plt.subplot(122)\n",
    "plt.hist(Boston.rad)\n",
    "plt.title('Matplot Histogram')\n",
    "plt.show()"
   ]
  },
  {
   "cell_type": "markdown",
   "metadata": {},
   "source": [
    "Interesting, it seems that a lot of towns score low on this index. When picking a town we will want one that is high."
   ]
  },
  {
   "cell_type": "markdown",
   "metadata": {},
   "source": [
    "Let's look at the next variable **tax** which is a full-value property-tax rate per 10,000 dollars. "
   ]
  },
  {
   "cell_type": "code",
   "execution_count": 49,
   "metadata": {},
   "outputs": [
    {
     "data": {
      "text/plain": [
       "count    506.000000\n",
       "mean     408.237154\n",
       "std      168.537116\n",
       "min      187.000000\n",
       "25%      279.000000\n",
       "50%      330.000000\n",
       "75%      666.000000\n",
       "max      711.000000\n",
       "Name: tax, dtype: float64"
      ]
     },
     "execution_count": 49,
     "metadata": {},
     "output_type": "execute_result"
    }
   ],
   "source": [
    "Boston.tax.describe()"
   ]
  },
  {
   "cell_type": "code",
   "execution_count": 52,
   "metadata": {},
   "outputs": [
    {
     "data": {
      "image/png": "[encoded data removed]",
      "text/plain": [
       "<Figure size 432x288 with 2 Axes>"
      ]
     },
     "metadata": {
      "needs_background": "light"
     },
     "output_type": "display_data"
    }
   ],
   "source": [
    "plt.figure(1)\n",
    "plt.subplot(121)\n",
    "sns.distplot(Boston.tax,bins = 10)\n",
    "plt.title('Seaborn Histogram')\n",
    "plt.xlabel(' ')\n",
    "plt.subplot(122)\n",
    "plt.hist(Boston.tax)\n",
    "plt.title('Matplot Histogram')\n",
    "plt.show()"
   ]
  },
  {
   "cell_type": "markdown",
   "metadata": {},
   "source": [
    "Since tax here is not a continuous variable, it is a categorical tax rate per the value of the house. We will seek to find the house with the low tax rate."
   ]
  },
  {
   "cell_type": "markdown",
   "metadata": {},
   "source": [
    "Let's look at the next variable **ptratio:** pupil-teacher ratio by town."
   ]
  },
  {
   "cell_type": "code",
   "execution_count": 58,
   "metadata": {},
   "outputs": [
    {
     "data": {
      "text/plain": [
       "count    506.000000\n",
       "mean      18.455534\n",
       "std        2.164946\n",
       "min       12.600000\n",
       "25%       17.400000\n",
       "50%       19.050000\n",
       "75%       20.200000\n",
       "max       22.000000\n",
       "Name: ptratio, dtype: float64"
      ]
     },
     "execution_count": 58,
     "metadata": {},
     "output_type": "execute_result"
    }
   ],
   "source": [
    "Boston.ptratio.describe()"
   ]
  },
  {
   "cell_type": "code",
   "execution_count": 53,
   "metadata": {},
   "outputs": [
    {
     "data": {
      "image/png": "[encoded data removed]",
      "text/plain": [
       "<Figure size 432x288 with 2 Axes>"
      ]
     },
     "metadata": {
      "needs_background": "light"
     },
     "output_type": "display_data"
    },
    {
     "data": {
      "text/plain": [
       "19.05"
      ]
     },
     "execution_count": 53,
     "metadata": {},
     "output_type": "execute_result"
    }
   ],
   "source": [
    "plt.figure(1)\n",
    "plt.subplot(121)\n",
    "sns.boxplot(Boston.ptratio, orient = 'v')\n",
    "plt.title('Seaborn Boxplot')\n",
    "plt.xlabel(' ')\n",
    "plt.subplot(122)\n",
    "plt.boxplot(Boston.ptratio)\n",
    "plt.title('Matplot Boxplot')\n",
    "plt.show()\n",
    "Boston.ptratio.median()"
   ]
  },
  {
   "cell_type": "markdown",
   "metadata": {},
   "source": [
    "According to Malcom Gladwell students benefit from having enough students (over 20) in the room to have a good discussion and they also benefit from classes being under 25 students so that they can be heard in the class.  This could be important if you have children and are looking to out them into a school in a particular town.\n",
    "\n",
    "https://montrose42.wordpress.com/2015/01/10/gladwell-on-the-effects-of-class-size/"
   ]
  },
  {
   "cell_type": "markdown",
   "metadata": {},
   "source": [
    "Let's take a looka at the next variable **lstat:** lower socioeconomic status of the population (percent)"
   ]
  },
  {
   "cell_type": "code",
   "execution_count": 124,
   "metadata": {},
   "outputs": [
    {
     "data": {
      "text/plain": [
       "count    506.000000\n",
       "mean      12.653063\n",
       "std        7.141062\n",
       "min        1.730000\n",
       "25%        6.950000\n",
       "50%       11.360000\n",
       "75%       16.955000\n",
       "max       37.970000\n",
       "Name: lstat, dtype: float64"
      ]
     },
     "execution_count": 124,
     "metadata": {},
     "output_type": "execute_result"
    }
   ],
   "source": [
    "Boston.lstat.describe()"
   ]
  },
  {
   "cell_type": "code",
   "execution_count": 61,
   "metadata": {},
   "outputs": [
    {
     "data": {
      "image/png": "[encoded data removed]",
      "text/plain": [
       "<Figure size 432x288 with 2 Axes>"
      ]
     },
     "metadata": {
      "needs_background": "light"
     },
     "output_type": "display_data"
    },
    {
     "data": {
      "text/plain": [
       "11.36"
      ]
     },
     "execution_count": 61,
     "metadata": {},
     "output_type": "execute_result"
    }
   ],
   "source": [
    "plt.figure(1)\n",
    "plt.subplot(121)\n",
    "sns.boxplot(Boston.lstat, orient = 'v')\n",
    "plt.title('Seaborn Boxplot')\n",
    "plt.xlabel(' ')\n",
    "plt.subplot(122)\n",
    "plt.boxplot(Boston.lstat)\n",
    "plt.title('Matplot Boxplot')\n",
    "plt.show()\n",
    "Boston.lstat.median()"
   ]
  },
  {
   "cell_type": "code",
   "execution_count": 62,
   "metadata": {},
   "outputs": [
    {
     "data": {
      "image/png": "[encoded data removed]",
      "text/plain": [
       "<Figure size 432x288 with 2 Axes>"
      ]
     },
     "metadata": {
      "needs_background": "light"
     },
     "output_type": "display_data"
    }
   ],
   "source": [
    "plt.figure(1)\n",
    "plt.subplot(121)\n",
    "sns.distplot(Boston.lstat,bins = 10)\n",
    "plt.title('Seaborn Histogram')\n",
    "plt.xlabel(' ')\n",
    "plt.subplot(122)\n",
    "plt.hist(Boston.lstat)\n",
    "plt.title('Matplot Histogram')\n",
    "plt.show()"
   ]
  },
  {
   "cell_type": "markdown",
   "metadata": {},
   "source": [
    "Here we see that there is a significant amount of low socio-economic by percentage of a town. We will be looking for towns with low score on this value."
   ]
  },
  {
   "cell_type": "markdown",
   "metadata": {},
   "source": [
    "Let's take a look at the next variable **medv:** median value of owner-occupied homes in 1000 Dollar amounts. "
   ]
  },
  {
   "cell_type": "code",
   "execution_count": 64,
   "metadata": {
    "scrolled": true
   },
   "outputs": [
    {
     "data": {
      "text/plain": [
       "count    506.000000\n",
       "mean      22.532806\n",
       "std        9.197104\n",
       "min        5.000000\n",
       "25%       17.025000\n",
       "50%       21.200000\n",
       "75%       25.000000\n",
       "max       50.000000\n",
       "Name: medv, dtype: float64"
      ]
     },
     "execution_count": 64,
     "metadata": {},
     "output_type": "execute_result"
    }
   ],
   "source": [
    "Boston.medv.describe()"
   ]
  },
  {
   "cell_type": "code",
   "execution_count": 125,
   "metadata": {},
   "outputs": [
    {
     "data": {
      "image/png": "[encoded data removed]",
      "text/plain": [
       "<Figure size 432x288 with 2 Axes>"
      ]
     },
     "metadata": {
      "needs_background": "light"
     },
     "output_type": "display_data"
    }
   ],
   "source": [
    "plt.figure(1)\n",
    "plt.subplot(121)\n",
    "sns.distplot(Boston.medv,bins = 10)\n",
    "plt.title('Seaborn Histogram')\n",
    "plt.xlabel(' ')\n",
    "plt.subplot(122)\n",
    "plt.hist(Boston.medv)\n",
    "plt.title('Matplot Histogram')\n",
    "plt.show()"
   ]
  },
  {
   "cell_type": "markdown",
   "metadata": {},
   "source": [
    "We see that the median value for a home in a town is skewed to the left indicating that there are more towns with cheaper homes. "
   ]
  },
  {
   "cell_type": "markdown",
   "metadata": {},
   "source": [
    "### Part 4 Inference"
   ]
  },
  {
   "cell_type": "markdown",
   "metadata": {},
   "source": [
    "Now that we understand all of the variables in the dataset, let use them to find the best subset of towns in Boston."
   ]
  },
  {
   "cell_type": "markdown",
   "metadata": {},
   "source": [
    "As we found, there are towns with high crime rates in Boston so we will only look at towns that have a crime rate below the median after removing the upper outliers.<br/>"
   ]
  },
  {
   "cell_type": "code",
   "execution_count": 127,
   "metadata": {},
   "outputs": [],
   "source": [
    "x = Boston.crim<Boston.crim[Boston.crim<1].median()"
   ]
  },
  {
   "cell_type": "markdown",
   "metadata": {},
   "source": [
    "The proportion of residential land, idustrial land, and if they are not related to our question. So the next variable is the level of air pollution NOX.<br/>\n",
    "We are going to only look at towns with NOX that is safe according to the definition of the EPA.<br/>"
   ]
  },
  {
   "cell_type": "code",
   "execution_count": 96,
   "metadata": {},
   "outputs": [],
   "source": [
    "x = Boston.nox<.53"
   ]
  },
  {
   "cell_type": "markdown",
   "metadata": {},
   "source": [
    "The average amount of rooms and average age doesn't vary significantly as we have seen so we can omit it from our study.<br/> \n",
    "The distance to a center of employment is never larger than 12.5 miles so we can omit that from our study too.<br/>\n",
    "\n",
    "The next variable is Rad the accessibility to the highway. We want this to be high and there is a large group of towns with high accessibility as we saw in the histogram above. <br/>\n",
    "<br/>\n",
    "Let's use this subset as a parameter. <br/>"
   ]
  },
  {
   "cell_type": "code",
   "execution_count": 128,
   "metadata": {},
   "outputs": [],
   "source": [
    "x = Boston.rad>23"
   ]
  },
  {
   "cell_type": "markdown",
   "metadata": {},
   "source": [
    "The next variable is tax we will use this later once we have our final subset.<br/> \n",
    "After is the ration of teachers to students since the IQR is between 18 and 20 we should look for schools in that range as the number is close  to ideal without limiting our options.<br/>\n",
    "\n",
    "\n",
    "\n"
   ]
  },
  {
   "cell_type": "code",
   "execution_count": 129,
   "metadata": {},
   "outputs": [],
   "source": [
    "x = np.logical_and(Boston.ptratio>18, Boston.ptratio<20)"
   ]
  },
  {
   "cell_type": "markdown",
   "metadata": {},
   "source": [
    "The last variable for subsetting our dataset is lstat, lower status of the population (percent)."
   ]
  },
  {
   "cell_type": "markdown",
   "metadata": {},
   "source": [
    "Since there is a significant amount of towns with les than 20% <br/>\n",
    "Let's use this as our subset"
   ]
  },
  {
   "cell_type": "code",
   "execution_count": 130,
   "metadata": {},
   "outputs": [],
   "source": [
    "x = Boston.lstat<20"
   ]
  },
  {
   "cell_type": "markdown",
   "metadata": {},
   "source": [
    "Let's look at how many towns meet our critearia. "
   ]
  },
  {
   "cell_type": "code",
   "execution_count": 131,
   "metadata": {},
   "outputs": [
    {
     "data": {
      "text/plain": [
       "47"
      ]
     },
     "execution_count": 131,
     "metadata": {},
     "output_type": "execute_result"
    }
   ],
   "source": [
    "#useing the np.logical_and operator we will see how many towns will be left after we filter all of our conditions\n",
    "\n",
    "row_index1 = np.logical_and( Boston.crim<Boston.crim[Boston.crim<1].median() , Boston.nox<.53) \n",
    "row_index2 = np.logical_and( Boston.ptratio>18, Boston.ptratio<20)\n",
    "row_index3 = np.logical_and(Boston.rad<10 , Boston.lstat<20)\n",
    "row_index4 = np.logical_and(row_index1, row_index2)\n",
    "row_index5 = np.logical_and(row_index3, row_index4)\n",
    "\n",
    "sum(row_index5)"
   ]
  },
  {
   "cell_type": "markdown",
   "metadata": {},
   "source": [
    "There are 47 towns which fit our criterea. Lets compare tax prices and median house prices in these towns to see which one is the cheapest option.  "
   ]
  },
  {
   "cell_type": "code",
   "execution_count": 110,
   "metadata": {},
   "outputs": [
    {
     "data": {
      "image/png": "[encoded data removed]",
      "text/plain": [
       "<Figure size 432x288 with 2 Axes>"
      ]
     },
     "metadata": {
      "needs_background": "light"
     },
     "output_type": "display_data"
    }
   ],
   "source": [
    "plt.figure(1)\n",
    "plt.subplot(121)\n",
    "sns.scatterplot(x= Boston.tax[row_index5], y = Boston.medv[row_index5], data = Boston)\n",
    "plt.title('Seaborn Scatterplot')\n",
    "plt.xlabel(' ')\n",
    "plt.subplot(122)\n",
    "plt.scatter(Boston.tax[row_index5], Boston.medv[row_index5])\n",
    "plt.title('Matplot Scatterplot')\n",
    "plt.show()"
   ]
  },
  {
   "cell_type": "markdown",
   "metadata": {},
   "source": [
    "There appear to be a few towns that are close in price range."
   ]
  },
  {
   "cell_type": "markdown",
   "metadata": {},
   "source": [
    "Let's print a list of the cheapest towns that we are interested in."
   ]
  },
  {
   "cell_type": "code",
   "execution_count": 116,
   "metadata": {},
   "outputs": [
    {
     "data": {
      "text/plain": [
       "Int64Index([87, 269, 286], dtype='int64')"
      ]
     },
     "execution_count": 116,
     "metadata": {},
     "output_type": "execute_result"
    }
   ],
   "source": [
    "Boston.index[row_index5][np.logical_and(Boston.tax[row_index5]<250, Boston.medv[row_index5]<22.5)]"
   ]
  },
  {
   "cell_type": "markdown",
   "metadata": {},
   "source": [
    "The three towns we should consider buying a house in are towns 87, 269, and 286"
   ]
  },
  {
   "cell_type": "markdown",
   "metadata": {},
   "source": [
    "### Part 5 Conclusion\n",
    "\n",
    "If you are a consumer looking to buy a house in Boston this data set provides information on all of the towns in the area.<br/>\n",
    "\n",
    "We have used this data set to find the best towns to buy a house in. <br/>\n",
    "\n",
    "The criteria we used for this search was:\n",
    "\n",
    "- a crime rate per capita less than .11\n",
    "- air that is safe to breath according to the standards of the EPA\n",
    "- Scores well on the access to highway index which we defined as <10\n",
    "- Has a good ratio of students to teachers as defined in reference to Malcom Gladwell's definition of an ideal class size\n",
    "- Has a low percentage of people on the lower socioeconomic strata\n",
    "\n",
    "Once we identified the best 50 towns in the Boston area, we compared the tax and median value of all the houses and picked the 3 towns with the cheapest taxes and median house cost.\n",
    "\n"
   ]
  },
  {
   "cell_type": "code",
   "execution_count": null,
   "metadata": {},
   "outputs": [],
   "source": []
  }
 ],
 "metadata": {
  "kernelspec": {
   "display_name": "Python 3",
   "language": "python",
   "name": "python3"
  },
  "language_info": {
   "codemirror_mode": {
    "name": "ipython",
    "version": 3
   },
   "file_extension": ".py",
   "mimetype": "text/x-python",
   "name": "python",
   "nbconvert_exporter": "python",
   "pygments_lexer": "ipython3",
   "version": "3.7.1"
  },
  "widgets": {
   "application/vnd.jupyter.widget-state+json": {
    "state": {},
    "version_major": 2,
    "version_minor": 0
   }
  }
 },
 "nbformat": 4,
 "nbformat_minor": 2
}
