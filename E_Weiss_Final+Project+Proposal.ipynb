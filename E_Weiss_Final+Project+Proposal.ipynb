{
 "cells": [
  {
   "cell_type": "markdown",
   "metadata": {},
   "source": [
    "## Introduction\n",
    "\n",
    "*This section should provide some context for the basis of the research questions you plan to answer without actually describing the research questions themselves. For example, if your research questions are focused on a health related issue, you might provide a brief summary of how many people are affected by that issue each year either regionally, nationally or globally, including any infection rate or mortality statistics you were able to gather. Basically, in the Introduction you are trying to make the reader understand why the research questions you are going to propose are relevant and should be of interest to them.*"
   ]
  },
  {
   "cell_type": "markdown",
   "metadata": {},
   "source": [
    "\n",
    "###### In the world of marketing there are many questions that analytics firms need to ask themselves to target ads to consumers properly. Being able to answer these questions more accurately and consistently means that the firms can sell consulting services to industrial companies that need advice on how to advertise their products.  "
   ]
  },
  {
   "cell_type": "markdown",
   "metadata": {},
   "source": [
    "## Research Questions\n",
    "\n",
    "*Provide a single succinct sentence that describes each of your research questions. Then provide a paragraph or two explaining how the results of your research might be used/implemented in the \"real world\".*"
   ]
  },
  {
   "cell_type": "markdown",
   "metadata": {},
   "source": [
    "###### How do consumers in different segments respond to different channels of ads? \n",
    "###### How many ads need to be served to consumers to get engagements?  "
   ]
  },
  {
   "cell_type": "markdown",
   "metadata": {},
   "source": [
    "###### The answer to the first question would help firms allocate capital efficiently, if we know where they can find the most effective channel for a segment of the market. Then they will be able to reach their customers for a cheaper price and be able to market to them more effectively.\n",
    "\n",
    "###### The answer to the second question is also very important it will show us the frequency of ads that need to be shown to customers in order to engage them. This question will obviously vary by segment and the channel through which they are being engaged in.\n"
   ]
  },
  {
   "cell_type": "markdown",
   "metadata": {},
   "source": [
    "## Data to be Used\n",
    "\n",
    "*Clearly identify the sources of your data and explain the methods you will use to collect the data from those sources, e.g., \"Data from this source will be loaded into an SQL database..\" or \"Data will need to be collected from this source via scraping of a web page..\", etc.*"
   ]
  },
  {
   "cell_type": "markdown",
   "metadata": {},
   "source": [
    "###### The data source for this project will  be \"real\" data from IPG Mediabrands, which I received for a case interview I did with them. It includes a data set which contains data on the engagements of the user and the metadata such as their channel and segments.\n",
    "###### The Second data source is a holiday API which will inform content recommendations for the segment – channel combinations that we will identify from the first data set. "
   ]
  },
  {
   "cell_type": "markdown",
   "metadata": {},
   "source": [
    "## Approach\n",
    "\n",
    "*Explain how you plan to manage the data you are collecting: e.g., will you be storing it within some sort of database, etc.? Explain what types of statistical analysis you plan to utilize to help answer your research questions. Explain any graphics you plan to generate to help answer you research questions, e.g., \"..we will attempt to construct geoplots that will show how xxxxxx varies between counties within the state of Nevada..\", etc. The reader should come away with a clear understanding of how you plan to proceed with your work. Keep in mind that since this is a proposal, you need to be able to convince the reader that your proposed project is: a) realistic; and b) feasible within the time alloted for the project.*"
   ]
  },
  {
   "cell_type": "markdown",
   "metadata": {},
   "source": [
    "###### I plan on creating bar charts that show the Click through rate and cost per click which will be a calculated fields, by the channel and segment to find the cheapest and most effective way to market to a given segment through a particular channel. \n",
    "###### I also plan on finding the average amount of ads served to a user that did and did not click to find the best number of ads we should serve to capture user engagement. After finding this, I would want to explore how this varies by channel and segment and then to validate the findings with a logistic regression.\n",
    "##### Once we have Identified the best means to communicate with our consumers we will then utilize a API which will identify the holidays that occur during the month of data we will be exploring. Once we identify the best way to reach our consumers and how to market to them (holiday themed marketing) we will be able to use these findings to present them to a marketing team as a strategy for their online spend.\n"
   ]
  }
 ],
 "metadata": {
  "kernelspec": {
   "display_name": "Python 3",
   "language": "python",
   "name": "python3"
  },
  "language_info": {
   "codemirror_mode": {
    "name": "ipython",
    "version": 3
   },
   "file_extension": ".py",
   "mimetype": "text/x-python",
   "name": "python",
   "nbconvert_exporter": "python",
   "pygments_lexer": "ipython3",
   "version": "3.6.2"
  }
 },
 "nbformat": 4,
 "nbformat_minor": 2
}
