{
 "cells": [
  {
   "cell_type": "markdown",
   "metadata": {},
   "source": [
    "## Introduction"
   ]
  },
  {
   "cell_type": "markdown",
   "metadata": {},
   "source": [
    "\n",
    "In the world of marketing there are many questions that analytics firms need to ask themselves to target ads to consumers properly. Being able to answer these questions more accurately and consistently means that the firms can sell consulting services to industrial companies that need advice on how to advertise their products.  "
   ]
  },
  {
   "cell_type": "markdown",
   "metadata": {},
   "source": [
    "## Research Questions"
   ]
  },
  {
   "cell_type": "markdown",
   "metadata": {},
   "source": [
    "How do consumers in different segments respond to different channels of ads? <br/>\n",
    "How many ads need to be served to consumers to get engagements?  "
   ]
  },
  {
   "cell_type": "markdown",
   "metadata": {},
   "source": [
    "The answer to the first question would help firms allocate capital efficiently, if we know where they can find the most effective channel for a segment of the market. Then they will be able to reach their customers for a cheaper price and be able to market to them more effectively.\n",
    "<br/> The answer to the second question is also very important it will show us the frequency of ads that need to be shown to customers in order to engage them. This question will obviously vary by segment and the channel through which they are being engaged in.\n"
   ]
  },
  {
   "cell_type": "markdown",
   "metadata": {},
   "source": [
    "## Data to be Used"
   ]
  },
  {
   "cell_type": "markdown",
   "metadata": {},
   "source": [
    " The data source for this project will  be \"real\" data from IPG Mediabrands, which I received for a case interview I did with them. It includes a data set which contains data on the engagements of the user and the metadata such as their channel and segments.\n",
    "<br/> The Second data source is a holiday API which will inform content recommendations for the segment – channel combinations that we will identify from the first data set. "
   ]
  },
  {
   "cell_type": "markdown",
   "metadata": {},
   "source": [
    "## Approach"
   ]
  },
  {
   "cell_type": "markdown",
   "metadata": {},
   "source": [
    "I plan on creating bar charts that show the Click through rate and cost per click which will be a calculated fields, by the channel and segment to find the cheapest and most effective way to market to a given segment through a particular channel. \n",
    "\n",
    "I also plan on finding the average amount of ads served to a user that did and did not click to find the best number of ads we should serve to capture user engagement. After finding this, I would want to explore how this varies by channel and segment. I will then to validate the findings with a logistic regression and cross validate the results using K fold CV.\n",
    "\n",
    "Once we have identified the best means to communicate with our consumers we will then utilize a API which will identify the holidays that occur during the month of data we will be exploring. Once we identify the best way to reach our consumers and how to market to them (holiday themed marketing) we will be able to use these findings to present them to a marketing team as a strategy for their online spend.\n"
   ]
  }
 ],
 "metadata": {
  "kernelspec": {
   "display_name": "Python 3",
   "language": "python",
   "name": "python3"
  },
  "language_info": {
   "codemirror_mode": {
    "name": "ipython",
    "version": 3
   },
   "file_extension": ".py",
   "mimetype": "text/x-python",
   "name": "python",
   "nbconvert_exporter": "python",
   "pygments_lexer": "ipython3",
   "version": "3.6.2"
  }
 },
 "nbformat": 4,
 "nbformat_minor": 2
}
