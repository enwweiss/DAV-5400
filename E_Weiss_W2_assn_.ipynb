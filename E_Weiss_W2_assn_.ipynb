{
 "cells": [
  {
   "cell_type": "markdown",
   "metadata": {},
   "source": [
    "# HW 2 \n",
    "## By Eli Weiss"
   ]
  },
  {
   "cell_type": "code",
   "execution_count": 3,
   "metadata": {},
   "outputs": [
    {
     "name": "stdout",
     "output_type": "stream",
     "text": [
      "['high', 'high', '2', '4', 'med', 'low', 'unacc']\n",
      "['high', 'high', '4', 'more', 'small', 'high', 'acc']\n",
      "['high', 'high', '4', 'more', 'big', 'low', 'unacc']\n",
      "['high', 'low', '2', 'more', 'big', 'high', 'acc']\n",
      "['vhigh', 'low', '3', '2', 'med', 'med', 'unacc']\n",
      "['low', 'high', '2', '2', 'small', 'low', 'unacc']\n",
      "['med', 'med', '4', 'more', 'med', 'high', 'vgood']\n",
      "['low', 'low', '3', '2', 'big', 'med', 'unacc']\n",
      "['vhigh', 'low', '2', '2', 'small', 'low', 'unacc']\n",
      "['vhigh', 'high', '4', '4', 'med', 'low', 'unacc']\n",
      "['low', 'low', '2', '2', 'med', 'med', 'unacc']\n",
      "['vhigh', 'low', '4', 'more', 'small', 'high', 'acc']\n",
      "['high', 'low', '2', '4', 'big', 'med', 'acc']\n",
      "['low', 'vhigh', '3', 'more', 'big', 'low', 'unacc']\n",
      "['high', 'low', '5more', '2', 'big', 'med', 'unacc']\n",
      "['vhigh', 'high', '2', 'more', 'med', 'high', 'unacc']\n",
      "['med', 'med', '2', '2', 'small', 'low', 'unacc']\n",
      "['high', 'low', '5more', '4', 'med', 'high', 'acc']\n",
      "['low', 'low', '3', 'more', 'med', 'high', 'vgood']\n",
      "['low', 'low', '2', '2', 'big', 'med', 'unacc']\n",
      "['med', 'high', '4', '2', 'big', 'high', 'unacc']\n",
      "['low', 'low', '2', '2', 'small', 'high', 'unacc']\n",
      "['vhigh', 'high', '5more', '4', 'med', 'med', 'unacc']\n",
      "['med', 'vhigh', '2', '2', 'big', 'low', 'unacc']\n",
      "['low', 'vhigh', '4', '4', 'big', 'low', 'unacc']\n",
      "['vhigh', 'low', '3', 'more', 'big', 'low', 'unacc']\n",
      "['med', 'vhigh', '3', '4', 'small', 'low', 'unacc']\n",
      "['high', 'high', '3', '4', 'med', 'med', 'unacc']\n",
      "['low', 'high', '5more', '2', 'big', 'low', 'unacc']\n",
      "['med', 'high', '5more', '2', 'med', 'med', 'unacc']\n",
      "['high', 'low', '3', '4', 'med', 'high', 'acc']\n",
      "['high', 'vhigh', '5more', '4', 'med', 'med', 'unacc']\n",
      "['low', 'low', '5more', '2', 'med', 'low', 'unacc']\n",
      "['vhigh', 'vhigh', '4', '2', 'big', 'high', 'unacc']\n",
      "['high', 'low', '3', '2', 'big', 'high', 'unacc']\n"
     ]
    }
   ],
   "source": [
    "\n",
    "import csv\n",
    "with open('C:/Users/enwwe/Documents/GitHub/DAV-5400/cars-sample35.txt') as csvfile:\n",
    "    readCSV = csv.reader(csvfile)\n",
    "    for row in readCSV:\n",
    "        # print each row as read by the csv.reader function\n",
    "        print(row)"
   ]
  },
  {
   "cell_type": "markdown",
   "metadata": {},
   "source": [
    "# Task 1"
   ]
  },
  {
   "cell_type": "code",
   "execution_count": 2,
   "metadata": {},
   "outputs": [],
   "source": [
    "# Define all the variables used in the loop as empty \n",
    "# lists\n",
    "Price= []\n",
    "Maintenace = []\n",
    "Doors = []\n",
    "passenger = []\n",
    "Lugg = []\n",
    "Safe = []\n",
    "Class = []\n",
    "\n",
    "#import the data set\n",
    "import csv\n",
    "with open('C:/Users/enwwe/Documents/GitHub/DAV-5400/cars-sample35.txt') as csvfile:\n",
    "    readCSV = csv.reader(csvfile)\n",
    "\n",
    "#Run a For loop to create variables that make \"columns\" out of the data \n",
    "    for row in readCSV:\n",
    "            Price = Price +[row[0]]\n",
    "            Maintenace = Maintenace +[row[1]]\n",
    "            Doors = Doors + [row[2]]\n",
    "            passenger = passenger + [row[3]]\n",
    "            Lugg = Lugg + [row[4]]\n",
    "            Safe = Safe + [row[5]]\n",
    "            Class = Class + [row[6]]"
   ]
  },
  {
   "cell_type": "markdown",
   "metadata": {},
   "source": [
    "#  Task 2"
   ]
  },
  {
   "cell_type": "code",
   "execution_count": 3,
   "metadata": {},
   "outputs": [
    {
     "name": "stdout",
     "output_type": "stream",
     "text": [
      "[6, 16, 20, 23, 26, 29]\n"
     ]
    }
   ],
   "source": [
    "#Define the variable index where we will store the index values that are equal to 'med'\n",
    "Which_Price_Med = []\n",
    "\n",
    "#ID the values in the Variable Price which are equal to med and store them in the variable \"Which_Price_Med\"\n",
    "for i in range(len(Price)):\n",
    "    if Price[i]=='med':\n",
    "        Which_Price_Med = Which_Price_Med + [i]\n",
    "print(Which_Price_Med)"
   ]
  },
  {
   "cell_type": "markdown",
   "metadata": {},
   "source": [
    "# Task 3"
   ]
  },
  {
   "cell_type": "code",
   "execution_count": 4,
   "metadata": {},
   "outputs": [
    {
     "name": "stdout",
     "output_type": "stream",
     "text": [
      "['more', '2', '2', '2', '4', '2']\n"
     ]
    }
   ],
   "source": [
    "#For each of the cars we Identified as having a medium price\n",
    "# we are now looking to find the amount of passengers that each \n",
    "#car can hold\n",
    "# We will store this in a variable called Med_Pass which will start off as an emply list\n",
    "Med_Pass = []\n",
    "for i in Which_Price_Med:\n",
    "    Med_Pass = Med_Pass + [passenger[i]]\n",
    "print(Med_Pass)"
   ]
  },
  {
   "cell_type": "markdown",
   "metadata": {},
   "source": [
    "# Task 4"
   ]
  },
  {
   "cell_type": "code",
   "execution_count": 5,
   "metadata": {},
   "outputs": [
    {
     "name": "stdout",
     "output_type": "stream",
     "text": [
      "[0, 1, 2, 27, 31]\n"
     ]
    }
   ],
   "source": [
    "#Here we are identifying which cars in our dataset have a 'high' price and are not 'low' maintenence.\n",
    "#Then we are storing them in a list called Which_P_High_M_Low \n",
    "Which_P_High_M_Low =[]\n",
    "for i in range(len(Price)):\n",
    "    if Price[i]=='high' and Maintenace[i] != 'low':\n",
    "        Which_P_High_M_Low = Which_P_High_M_Low + [i]\n",
    "print(Which_P_High_M_Low)"
   ]
  },
  {
   "cell_type": "markdown",
   "metadata": {},
   "source": [
    "# Task 5"
   ]
  },
  {
   "cell_type": "code",
   "execution_count": 6,
   "metadata": {},
   "outputs": [
    {
     "name": "stdout",
     "output_type": "stream",
     "text": [
      "[]\n"
     ]
    }
   ],
   "source": [
    "# Here we are building an index for all the rows that contain \"2 doors\" on a car\n",
    "# and have a luggage (variable Lugg) value of \"big\" the index is being stored in the \n",
    "# variable Doors2_Lugg_Big_index which will start as an empty list\n",
    "Doors2_Lugg_Big_index = []\n",
    "for i in range(len(Doors)):\n",
    "    if Doors[i]==2 and Lugg[i] == 'big':\n",
    "        Doors2_Lugg_Big_index = Doors2_Lugg_Big_index + [i]\n",
    "print(Doors2_Lugg_Big_index)"
   ]
  },
  {
   "cell_type": "markdown",
   "metadata": {},
   "source": [
    "# Task 6"
   ]
  },
  {
   "cell_type": "code",
   "execution_count": 8,
   "metadata": {},
   "outputs": [
    {
     "name": "stdout",
     "output_type": "stream",
     "text": [
      "3.314\n"
     ]
    }
   ],
   "source": [
    "# Here I am creating an \"empty\" variable with 0's to be replaced later in the next for loop\n",
    "int_Doors = []\n",
    "for i in range(len(Doors)):\n",
    "    int_Doors = int_Doors + [0]\n",
    "    \n",
    "# First we need to convert all values into something numeric, here we are converting '5more' into 5's\n",
    "for i in range(len(Doors)):\n",
    "    if Doors[i] == '5more':\n",
    "        int_Doors[i] = 5\n",
    "\n",
    "    # Here I am taking the rest of the values and\n",
    "    # converting them into integers in case they\n",
    "    # are by default something else\n",
    "    else:\n",
    "        int_Doors[i] = int(Doors[i])\n",
    "\n",
    "# Once we have numeric values for all the of the Doors, we can now compute the average. \n",
    "# I have rounded the result to three decimal places.\n",
    "import statistics\n",
    "print(round(statistics.mean(int_Doors),3))\n",
    "\n",
    "\n",
    "\n"
   ]
  },
  {
   "cell_type": "code",
   "execution_count": null,
   "metadata": {},
   "outputs": [],
   "source": []
  }
 ],
 "metadata": {
  "kernelspec": {
   "display_name": "Python 3",
   "language": "python",
   "name": "python3"
  },
  "language_info": {
   "codemirror_mode": {
    "name": "ipython",
    "version": 3
   },
   "file_extension": ".py",
   "mimetype": "text/x-python",
   "name": "python",
   "nbconvert_exporter": "python",
   "pygments_lexer": "ipython3",
   "version": "3.7.1"
  }
 },
 "nbformat": 4,
 "nbformat_minor": 2
}
