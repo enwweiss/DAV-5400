{
 "cells": [
  {
   "cell_type": "markdown",
   "metadata": {},
   "source": [
    "# HW 6 Eli Weiss"
   ]
  },
  {
   "cell_type": "code",
   "execution_count": 1,
   "metadata": {},
   "outputs": [],
   "source": [
    "# --- This Document is the home work assignment for week six in James Tapors's class in the Katz school \n",
    "# DAV Master's Program ---\n",
    "\n",
    "\n",
    "# read the data file from GitHub and convert to a Pandas dataframe object\n",
    "import pandas as pd\n",
    "import numpy as np\n",
    "D = pd.read_csv('https://raw.githubusercontent.com/enwweiss/DAV-5400/master/diamonds.csv')"
   ]
  },
  {
   "cell_type": "markdown",
   "metadata": {},
   "source": [
    "**Question 1:** What proportion of diamonds are between .30 and 1.08 carats?"
   ]
  },
  {
   "cell_type": "code",
   "execution_count": 2,
   "metadata": {},
   "outputs": [
    {
     "data": {
      "text/plain": [
       "0.75"
      ]
     },
     "execution_count": 2,
     "metadata": {},
     "output_type": "execute_result"
    }
   ],
   "source": [
    "# Here I am looking for values greater than .29 and are less than 1.09. These values are indexed out of the column.\n",
    "# the Proportion is computed by the amount of items divided by the total amount in the column.It it then rounded to 2 \n",
    "# decimal places.\n",
    "round(len(D.carat[np.logical_and(D.carat >.29, D.carat < 1.09)])/len(D.carat), 2)"
   ]
  },
  {
   "cell_type": "markdown",
   "metadata": {},
   "source": [
    "**Question 2:** How many of the diamonds have equal x and y dimensions?"
   ]
  },
  {
   "cell_type": "code",
   "execution_count": 3,
   "metadata": {},
   "outputs": [
    {
     "data": {
      "text/plain": [
       "17"
      ]
     },
     "execution_count": 3,
     "metadata": {},
     "output_type": "execute_result"
    }
   ],
   "source": [
    "#Here we are indexing to see which values in column X satisify the condition that they are equal to corresponding \n",
    "# value in column y\n",
    "len(D.x[D.x==D.y])"
   ]
  },
  {
   "cell_type": "markdown",
   "metadata": {},
   "source": [
    "**Question 3:** How many of the diamonds have a carat less than the mean carat value?"
   ]
  },
  {
   "cell_type": "code",
   "execution_count": 4,
   "metadata": {},
   "outputs": [
    {
     "data": {
      "text/plain": [
       "22813"
      ]
     },
     "execution_count": 4,
     "metadata": {},
     "output_type": "execute_result"
    }
   ],
   "source": [
    "#Here we are indexing to see which values in column 'Carat' satisify the condition that they are grater than the mean\n",
    "# of all values in column 'Carat'. We then count the results to get the answer to this question.\n",
    "len(D.carat[D.carat>np.mean(D.carat)])"
   ]
  },
  {
   "cell_type": "markdown",
   "metadata": {},
   "source": [
    "**Question 4:** How many diamonds have a Premium cut or better? Note that the possible values for the quality of a cut are ranked in ascending order as follows: Fair / Good / Very Good / Premium / Ideal"
   ]
  },
  {
   "cell_type": "code",
   "execution_count": 5,
   "metadata": {},
   "outputs": [
    {
     "data": {
      "text/plain": [
       "35342"
      ]
     },
     "execution_count": 5,
     "metadata": {},
     "output_type": "execute_result"
    }
   ],
   "source": [
    "#Here we are indexing to see which values in column 'cut' satisify the condition that they are equal to \n",
    "# 'Preimum' or 'Ideal'. We then count the results to get the answer to this question.\n",
    "len(D.cut[np.logical_or(D.cut=='Premium', D.cut == 'Ideal')])"
   ]
  },
  {
   "cell_type": "markdown",
   "metadata": {},
   "source": [
    "**Question 5:** Which diamond has the highest price per carat? What is its value?"
   ]
  },
  {
   "cell_type": "code",
   "execution_count": 6,
   "metadata": {},
   "outputs": [
    {
     "name": "stdout",
     "output_type": "stream",
     "text": [
      "Max Price Per Carat: 27635    17828.846154\n",
      "dtype: float64\n",
      "Price: $ 18542\n"
     ]
    }
   ],
   "source": [
    "#Here we divide each value in price by the amount of carets\n",
    "# this returns a series of values that hold the price per caret\n",
    "p2c = D.price/D.carat\n",
    "\n",
    "# We then find the diamond that has the highest price per caret\n",
    "print('Max Price Per Carat:',p2c[p2c == max(p2c)])\n",
    "\n",
    "#and now that we know the correct diamond we can find its actual price\n",
    "print('Price: $',D.price[27635])"
   ]
  },
  {
   "cell_type": "markdown",
   "metadata": {},
   "source": [
    "**Question 6:** Make a bar plot of the ‘cut’ data. What does it tell us about the frequencies of the individual cut values within the data set?"
   ]
  },
  {
   "cell_type": "code",
   "execution_count": 9,
   "metadata": {},
   "outputs": [
    {
     "data": {
      "text/plain": [
       "<BarContainer object of 5 artists>"
      ]
     },
     "execution_count": 9,
     "metadata": {},
     "output_type": "execute_result"
    },
    {
     "data": {
      "image/png": "[encoded data removed]",
      "text/plain": [
       "<Figure size 432x288 with 1 Axes>"
      ]
     },
     "metadata": {
      "needs_background": "light"
     },
     "output_type": "display_data"
    }
   ],
   "source": [
    "\n",
    "import matplotlib.pyplot as plt\n",
    "fair = len(D.cut[D.cut == 'Fair'])\n",
    "good = len(D.cut[D.cut == 'Good'])\n",
    "ideal = len(D.cut[D.cut == 'Ideal'])\n",
    "prem = len(D.cut[D.cut == 'Premium'])\n",
    "vgood = len(D.cut[D.cut == 'Very Good'])\n",
    "\n",
    "x = list([fair, good, ideal, prem, vgood])\n",
    "x_ = list(['fair', 'good', 'ideal', 'prem', 'vgood'])\n",
    "plt.bar(x_,x)"
   ]
  },
  {
   "cell_type": "markdown",
   "metadata": {},
   "source": [
    "This plot shows us that the data is not normally distributed and consequently we need to be carful if we try to learn from it. If we tried to learn the relationship between attributes in the dataset we will be looking at skewed results."
   ]
  },
  {
   "cell_type": "markdown",
   "metadata": {},
   "source": [
    "**Question 7:** Make boxplots of the diamond price for each cut and discuss any conclusions you can draw from the appearance of the boxplots"
   ]
  },
  {
   "cell_type": "code",
   "execution_count": 3,
   "metadata": {},
   "outputs": [
    {
     "data": {
      "text/plain": [
       "<matplotlib.axes._subplots.AxesSubplot at 0x1d373f006a0>"
      ]
     },
     "execution_count": 3,
     "metadata": {},
     "output_type": "execute_result"
    },
    {
     "data": {
      "image/png": "[encoded data removed]",
      "text/plain": [
       "<Figure size 432x288 with 1 Axes>"
      ]
     },
     "metadata": {
      "needs_background": "light"
     },
     "output_type": "display_data"
    }
   ],
   "source": [
    "#Here is a box plot showing the prices for Cuts that are Ideal\n",
    "pd.DataFrame.boxplot(D.price[D.cut=='Ideal'])"
   ]
  },
  {
   "cell_type": "markdown",
   "metadata": {},
   "source": [
    "- The plot above shows us that Ideal cuts have a median value beneath 2500 dollars\n",
    "- and that the range for a normal diamond is between ~ 1000 dollars - 5000 dollars"
   ]
  },
  {
   "cell_type": "code",
   "execution_count": 4,
   "metadata": {},
   "outputs": [
    {
     "data": {
      "text/plain": [
       "<matplotlib.axes._subplots.AxesSubplot at 0x1d373f797f0>"
      ]
     },
     "execution_count": 4,
     "metadata": {},
     "output_type": "execute_result"
    },
    {
     "data": {
      "image/png": "[encoded data removed]",
      "text/plain": [
       "<Figure size 432x288 with 1 Axes>"
      ]
     },
     "metadata": {
      "needs_background": "light"
     },
     "output_type": "display_data"
    }
   ],
   "source": [
    "pd.DataFrame.boxplot(D.price[D.cut=='Premium'])"
   ]
  },
  {
   "cell_type": "markdown",
   "metadata": {},
   "source": [
    "- The plot above shows us that Premium cuts have a median value above 2500 dollars\n",
    "- and that the range for a normal diamond is between ~ 1500 dollars - 6500 dollars"
   ]
  },
  {
   "cell_type": "code",
   "execution_count": 5,
   "metadata": {},
   "outputs": [
    {
     "data": {
      "text/plain": [
       "<matplotlib.axes._subplots.AxesSubplot at 0x1d373fc15f8>"
      ]
     },
     "execution_count": 5,
     "metadata": {},
     "output_type": "execute_result"
    },
    {
     "data": {
      "image/png": "[encoded data removed]",
      "text/plain": [
       "<Figure size 432x288 with 1 Axes>"
      ]
     },
     "metadata": {
      "needs_background": "light"
     },
     "output_type": "display_data"
    }
   ],
   "source": [
    "pd.DataFrame.boxplot(D.price[D.cut=='Fair'])"
   ]
  },
  {
   "cell_type": "markdown",
   "metadata": {},
   "source": [
    "- The plot above shows us that Fair cuts have a median value around 3000 dollars\n",
    "- and that the range for a normal diamond is between ~ 2500 dollars - 5000 dollars"
   ]
  },
  {
   "cell_type": "code",
   "execution_count": 6,
   "metadata": {},
   "outputs": [
    {
     "data": {
      "text/plain": [
       "<matplotlib.axes._subplots.AxesSubplot at 0x1d37402b3c8>"
      ]
     },
     "execution_count": 6,
     "metadata": {},
     "output_type": "execute_result"
    },
    {
     "data": {
      "image/png": "[encoded data removed]",
      "text/plain": [
       "<Figure size 432x288 with 1 Axes>"
      ]
     },
     "metadata": {
      "needs_background": "light"
     },
     "output_type": "display_data"
    }
   ],
   "source": [
    "pd.DataFrame.boxplot(D.price[D.cut=='Good'])"
   ]
  },
  {
   "cell_type": "markdown",
   "metadata": {},
   "source": [
    "- The plot above shows us that Good cuts have a median value just over 2500 dollars\n",
    "- and that the range for a normal diamond is between ~ 1500 dollars - 5000 dollars"
   ]
  },
  {
   "cell_type": "code",
   "execution_count": 7,
   "metadata": {},
   "outputs": [
    {
     "data": {
      "text/plain": [
       "<matplotlib.axes._subplots.AxesSubplot at 0x1d3740a9b70>"
      ]
     },
     "execution_count": 7,
     "metadata": {},
     "output_type": "execute_result"
    },
    {
     "data": {
      "image/png": "[encoded data removed]",
      "text/plain": [
       "<Figure size 432x288 with 1 Axes>"
      ]
     },
     "metadata": {
      "needs_background": "light"
     },
     "output_type": "display_data"
    }
   ],
   "source": [
    "pd.DataFrame.boxplot(D.price[D.cut=='Very Good'])"
   ]
  },
  {
   "cell_type": "markdown",
   "metadata": {},
   "source": [
    "- The plot above shows us that Very Good cuts have a median value of 2500 dollars\n",
    "- and that the range for a normal diamond is between ~ 1000 dollars - 5000 dollars"
   ]
  },
  {
   "cell_type": "markdown",
   "metadata": {},
   "source": [
    "Question 8: Make histograms of the length, width, depth, and total depth attributes and discuss any conclusions you can draw from the shape of the resulting distributions."
   ]
  },
  {
   "cell_type": "code",
   "execution_count": 18,
   "metadata": {},
   "outputs": [
    {
     "data": {
      "text/plain": [
       "array([[<matplotlib.axes._subplots.AxesSubplot object at 0x000001D374167198>,\n",
       "        <matplotlib.axes._subplots.AxesSubplot object at 0x000001D3761F0F98>,\n",
       "        <matplotlib.axes._subplots.AxesSubplot object at 0x000001D37621C518>],\n",
       "       [<matplotlib.axes._subplots.AxesSubplot object at 0x000001D376243A90>,\n",
       "        <matplotlib.axes._subplots.AxesSubplot object at 0x000001D376273048>,\n",
       "        <matplotlib.axes._subplots.AxesSubplot object at 0x000001D37629B5C0>],\n",
       "       [<matplotlib.axes._subplots.AxesSubplot object at 0x000001D3762C1B38>,\n",
       "        <matplotlib.axes._subplots.AxesSubplot object at 0x000001D3762F2128>,\n",
       "        <matplotlib.axes._subplots.AxesSubplot object at 0x000001D3762F2160>]],\n",
       "      dtype=object)"
      ]
     },
     "execution_count": 18,
     "metadata": {},
     "output_type": "execute_result"
    },
    {
     "data": {
      "image/png": "[encoded data removed]",
      "text/plain": [
       "<Figure size 432x288 with 9 Axes>"
      ]
     },
     "metadata": {
      "needs_background": "light"
     },
     "output_type": "display_data"
    }
   ],
   "source": [
    "#x = length\n",
    "#y = width\n",
    "#z = total depth\n",
    "\n",
    "pd.DataFrame.hist(D)"
   ]
  },
  {
   "cell_type": "markdown",
   "metadata": {},
   "source": [
    "In the histograms above we depth, totalt depth, width, and length do not vary much."
   ]
  },
  {
   "cell_type": "markdown",
   "metadata": {},
   "source": [
    "**Question 9:** Make a scatter plot of price vs. carat. What can we say about the relationship between those two attributes?"
   ]
  },
  {
   "cell_type": "code",
   "execution_count": 19,
   "metadata": {},
   "outputs": [
    {
     "data": {
      "text/plain": [
       "<matplotlib.axes._subplots.AxesSubplot at 0x1d376461748>"
      ]
     },
     "execution_count": 19,
     "metadata": {},
     "output_type": "execute_result"
    },
    {
     "data": {
      "image/png": "[encoded data removed]",
      "text/plain": [
       "<Figure size 432x288 with 1 Axes>"
      ]
     },
     "metadata": {
      "needs_background": "light"
     },
     "output_type": "display_data"
    }
   ],
   "source": [
    "D.plot(x='price', y='carat', style='o')"
   ]
  },
  {
   "cell_type": "markdown",
   "metadata": {},
   "source": [
    "Here the relationship is posative indicating that the higher the caret, the higher the price.\n",
    "\n",
    "However, it should be noted:\n",
    "- There is fan pattern indicating non-constant variance. \n",
    "- The underlying data needs to be tested for normallity and as we saw in cut type it is not - in order to understand if there is truely a relationship between these variables."
   ]
  },
  {
   "cell_type": "code",
   "execution_count": null,
   "metadata": {},
   "outputs": [],
   "source": []
  }
 ],
 "metadata": {
  "kernelspec": {
   "display_name": "Python 3",
   "language": "python",
   "name": "python3"
  },
  "language_info": {
   "codemirror_mode": {
    "name": "ipython",
    "version": 3
   },
   "file_extension": ".py",
   "mimetype": "text/x-python",
   "name": "python",
   "nbconvert_exporter": "python",
   "pygments_lexer": "ipython3",
   "version": "3.7.1"
  }
 },
 "nbformat": 4,
 "nbformat_minor": 2
}
